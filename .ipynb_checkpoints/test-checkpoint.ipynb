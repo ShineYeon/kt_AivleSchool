{
 "cells": [
  {
   "cell_type": "code",
   "execution_count": 39,
   "id": "4a618237",
   "metadata": {},
   "outputs": [
    {
     "name": "stdout",
     "output_type": "stream",
     "text": [
      "3\n",
      "5 2 3\n",
      "2\n"
     ]
    }
   ],
   "source": [
    "N = int(input())\n",
    "cin = list(map(int, input().split()))\n",
    "a = cin.copy()\n",
    "ret = 0 \n",
    "while True:\n",
    "    a.sort()\n",
    "    diff = a[N-1]-a[0]\n",
    "    if diff==0:\n",
    "        break\n",
    "    elif diff >1 :\n",
    "        a[N-1]-=1\n",
    "        a[0]+=1\n",
    "    elif diff==1:\n",
    "        if a.count(a[N-1]) < a.count(a[0]):\n",
    "            a[N-1]-=1\n",
    "        else:\n",
    "            a[N-1]-=1\n",
    "    ret+=1\n",
    "\n",
    "\n",
    "print(ret)"
   ]
  },
  {
   "cell_type": "code",
   "execution_count": 19,
   "id": "cb7a6447",
   "metadata": {
    "scrolled": true
   },
   "outputs": [
    {
     "name": "stdout",
     "output_type": "stream",
     "text": [
      "5\n",
      "10 8 2 9 1\n",
      "9\n"
     ]
    }
   ],
   "source": [
    "ans = 98765432\n",
    "def sol(a, cnt, N):\n",
    "    global ans\n",
    "    b=a.copy()\n",
    "    b.sort()\n",
    "    #print(a)\n",
    "    diff = b[N-1] - b[0]\n",
    "    if diff==0:\n",
    "        ans = min(ans, cnt)\n",
    "        return\n",
    "    elif diff==1:\n",
    "        b[N-1]-=1\n",
    "        sol(b, cnt+1, N)\n",
    "        b[N-1]+=1\n",
    "    else:\n",
    "        b[N-1]-=1\n",
    "        b[0] += 1\n",
    "        sol(b, cnt+1, N)\n",
    "        b[0]-=1\n",
    "        sol(b, cnt+1, N)\n",
    "        b[N-1]+=1\n",
    "        \n",
    "N = int(input())\n",
    "cin = list(map(int, input().split()))\n",
    "a = cin.copy()\n",
    "ret = sol(a, 0, N)\n",
    "print(ans) "
   ]
  },
  {
   "cell_type": "code",
   "execution_count": 28,
   "id": "7c26ce62",
   "metadata": {},
   "outputs": [
    {
     "name": "stdout",
     "output_type": "stream",
     "text": [
      "9023\n",
      "NO\n"
     ]
    }
   ],
   "source": [
    "import itertools\n",
    "a = input()\n",
    "li=[]\n",
    "for i in range(0, len(a)):\n",
    "    li.append(a[i])\n",
    "\n",
    "li.sort()\n",
    "li2 = list(map(''.join, itertools.permutations(li)))\n",
    "flag=False\n",
    "for i in li2:\n",
    "    if (int(i[0]) + int(i[1]) == int(i[2]) + int(i[3])) :\n",
    "        flag=True\n",
    "        break\n",
    "if flag:\n",
    "    print(\"YES\")\n",
    "else:\n",
    "    print(\"NO\")\n",
    "    "
   ]
  },
  {
   "cell_type": "code",
   "execution_count": 79,
   "id": "9614028d",
   "metadata": {},
   "outputs": [
    {
     "name": "stdout",
     "output_type": "stream",
     "text": [
      "984\n",
      "NO\n"
     ]
    }
   ],
   "source": [
    "import itertools\n",
    "N = input()\n",
    "leng = len(N)\n",
    "li=[]\n",
    "for i in N:\n",
    "    li.append(i)\n",
    "li2 = list(map(''.join, itertools.permutations(li)))\n",
    "flag=False\n",
    "for i in li2:\n",
    "    if int(i)%13==0:\n",
    "        flag=True\n",
    "        break\n",
    "print(\"YES\") if flag else print(\"NO\")"
   ]
  },
  {
   "cell_type": "code",
   "execution_count": 5,
   "id": "3b9e5297",
   "metadata": {},
   "outputs": [
    {
     "name": "stdout",
     "output_type": "stream",
     "text": [
      "4 5\n",
      "gggcg\n",
      "ggggo\n",
      "oggoo\n",
      "ooooo\n",
      "2 1\n",
      "6\n"
     ]
    }
   ],
   "source": [
    "N, M = map(int, input().split())\n",
    "ground=[]\n",
    "for i in range(0, N):\n",
    "    tmp = input()\n",
    "    ground.append(tmp)\n",
    "A, B = map(int, input().split())\n",
    "ans = 0\n",
    "for i in range(0, N):\n",
    "    for j in range(0, M):\n",
    "        oceanFlag = False\n",
    "        catFlag = True\n",
    "        if ground[i][j] == 'g':\n",
    "            for k in range(0, N):\n",
    "                for s in range(0, M):\n",
    "                    if ground[k][s] == 'o':\n",
    "                        diff = abs(i-k) + abs(j-s)\n",
    "                        if diff<=A:\n",
    "                            oceanFlag = True\n",
    "                    elif ground[k][s] == 'c':\n",
    "                        diff = abs(i-k) + abs(j-s)\n",
    "                        if diff <= B:\n",
    "                            catFlag = False\n",
    "        if (oceanFlag) & (catFlag):\n",
    "            ans+=1\n",
    "print(ans)\n",
    "                \n",
    "                        "
   ]
  },
  {
   "cell_type": "code",
   "execution_count": 31,
   "id": "6a5cdc35",
   "metadata": {},
   "outputs": [
    {
     "name": "stdout",
     "output_type": "stream",
     "text": [
      "5\n",
      "2 1 2 1 1\n",
      "2\n"
     ]
    }
   ],
   "source": [
    "N = int(input())\n",
    "li = list(map(int, input().split()))\n",
    "window = 3\n",
    "ans = 0\n",
    "for i in range(0, N-window+1):\n",
    "    tmp = [li[i], li[i+1], li[i+2]]\n",
    "    tmp.sort()\n",
    "    if ans<tmp[1]:\n",
    "        ans=tmp[1]\n",
    "print(ans)"
   ]
  },
  {
   "cell_type": "code",
   "execution_count": 34,
   "id": "4aea8edb",
   "metadata": {},
   "outputs": [
    {
     "name": "stdout",
     "output_type": "stream",
     "text": [
      "ABCDE\n",
      "CDEAB\n"
     ]
    },
    {
     "ename": "TypeError",
     "evalue": "'bool' object does not support item assignment",
     "output_type": "error",
     "traceback": [
      "\u001b[1;31m---------------------------------------------------------------------------\u001b[0m",
      "\u001b[1;31mTypeError\u001b[0m                                 Traceback (most recent call last)",
      "\u001b[1;32m<ipython-input-34-837910533271>\u001b[0m in \u001b[0;36m<module>\u001b[1;34m\u001b[0m\n\u001b[0;32m     19\u001b[0m             \u001b[1;32mbreak\u001b[0m\u001b[1;33m\u001b[0m\u001b[1;33m\u001b[0m\u001b[0m\n\u001b[0;32m     20\u001b[0m         \u001b[1;32melse\u001b[0m\u001b[1;33m:\u001b[0m\u001b[1;33m\u001b[0m\u001b[1;33m\u001b[0m\u001b[0m\n\u001b[1;32m---> 21\u001b[1;33m             \u001b[0mflag\u001b[0m\u001b[1;33m[\u001b[0m\u001b[0midx2\u001b[0m\u001b[1;33m]\u001b[0m \u001b[1;33m=\u001b[0m \u001b[1;32mTrue\u001b[0m\u001b[1;33m\u001b[0m\u001b[1;33m\u001b[0m\u001b[0m\n\u001b[0m\u001b[0;32m     22\u001b[0m             \u001b[0mcnt\u001b[0m\u001b[1;33m+=\u001b[0m\u001b[1;36m1\u001b[0m\u001b[1;33m\u001b[0m\u001b[1;33m\u001b[0m\u001b[0m\n\u001b[0;32m     23\u001b[0m             \u001b[1;32mif\u001b[0m \u001b[0midx2\u001b[0m\u001b[1;33m+\u001b[0m\u001b[1;36m1\u001b[0m\u001b[1;33m<\u001b[0m\u001b[0mlen\u001b[0m\u001b[1;33m(\u001b[0m\u001b[0mp2\u001b[0m\u001b[1;33m)\u001b[0m\u001b[1;33m:\u001b[0m\u001b[1;33m\u001b[0m\u001b[1;33m\u001b[0m\u001b[0m\n",
      "\u001b[1;31mTypeError\u001b[0m: 'bool' object does not support item assignment"
     ]
    }
   ],
   "source": [
    "p1 = input()\n",
    "p2 = input()\n",
    "cnt=0\n",
    "idx1 = 0\n",
    "idx2 = 0\n",
    "flag = True\n",
    "round = 0\n",
    "while True:\n",
    "    if round>=len(p2)*2:\n",
    "        flag=False\n",
    "        break\n",
    "    if p1[idx1] != p2[idx2]:\n",
    "        if idx2+1<len(p2):\n",
    "            idx2+=1\n",
    "        else:\n",
    "            idx2=0\n",
    "    elif p1[idx1]==p2[idx2]:\n",
    "        if cnt==len(p1):\n",
    "            break\n",
    "        else:\n",
    "            flag[idx2] = True\n",
    "            cnt+=1\n",
    "            if idx2+1<len(p2):\n",
    "                idx2+=1\n",
    "            else:\n",
    "                idx2=0\n",
    "    round+=1\n",
    "    \n",
    "if flag==False:\n",
    "    print(\"NO\")\n",
    "else:\n",
    "    print(\"YES\")"
   ]
  }
 ],
 "metadata": {
  "kernelspec": {
   "display_name": "Python 3",
   "language": "python",
   "name": "python3"
  },
  "language_info": {
   "codemirror_mode": {
    "name": "ipython",
    "version": 3
   },
   "file_extension": ".py",
   "mimetype": "text/x-python",
   "name": "python",
   "nbconvert_exporter": "python",
   "pygments_lexer": "ipython3",
   "version": "3.8.8"
  }
 },
 "nbformat": 4,
 "nbformat_minor": 5
}
