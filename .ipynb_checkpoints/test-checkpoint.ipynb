{
 "cells": [
  {
   "cell_type": "code",
   "execution_count": 25,
   "id": "b99ce637",
   "metadata": {},
   "outputs": [
    {
     "name": "stdout",
     "output_type": "stream",
     "text": [
      "192.168.35.19\n",
      "3\n"
     ]
    }
   ],
   "source": [
    "import sys\n",
    "import math\n",
    "\n",
    "a = input()\n",
    "cnt = a.count('.')\n",
    "print(cnt)"
   ]
  },
  {
   "cell_type": "code",
   "execution_count": 29,
   "id": "157a4e8b",
   "metadata": {
    "scrolled": true
   },
   "outputs": [
    {
     "name": "stdout",
     "output_type": "stream",
     "text": [
      "<map object at 0x000002126E05ECA0>9\n",
      "3.0\n"
     ]
    }
   ],
   "source": [
    "import math\n",
    "a = int(input(a))\n",
    "print(math.sqrt(a))"
   ]
  },
  {
   "cell_type": "code",
   "execution_count": 30,
   "id": "2b6755cb",
   "metadata": {},
   "outputs": [
    {
     "name": "stdout",
     "output_type": "stream",
     "text": [
      "3 9 1\n",
      "[9, 28]\n"
     ]
    }
   ],
   "source": [
    "a = list(map(int, input().split()))\n",
    "ans = []\n",
    "ans.append(a[1])\n",
    "ans.append(a[0]*a[1]+a[2])\n",
    "print(ans)"
   ]
  },
  {
   "cell_type": "code",
   "execution_count": 36,
   "id": "019c5665",
   "metadata": {},
   "outputs": [
    {
     "name": "stdout",
     "output_type": "stream",
     "text": [
      "?id=\"&pw=%231%20ro\n",
      "?id=\\\"&pw=%231%20ro"
     ]
    }
   ],
   "source": [
    "a = input()\n",
    "b=[]\n",
    "for i in a:\n",
    "    if i=='\\\"':\n",
    "        b+='\\\\'+i\n",
    "    elif i==\"\\'\" :\n",
    "        b+=\"\\\\\"+i\n",
    "    elif i=='\\\\' :\n",
    "        b+=\"\\\\\"+i\n",
    "    else:\n",
    "        b+=i\n",
    "for i in b:\n",
    "    print(i, end=\"\")"
   ]
  },
  {
   "cell_type": "code",
   "execution_count": null,
   "id": "923c5de4",
   "metadata": {},
   "outputs": [],
   "source": [
    "a = int(input())\n",
    "if a%4==1:\n",
    "    print('jjamppong')\n",
    "elif a%4==2:\n",
    "    print('jjajangmyeon')\n",
    "elif a%4==3:\n",
    "    print('bokkeumbap')\n",
    "else:\n",
    "    print('jjajangmyeon')"
   ]
  },
  {
   "cell_type": "code",
   "execution_count": 53,
   "id": "5ebbefdf",
   "metadata": {},
   "outputs": [
    {
     "name": "stdout",
     "output_type": "stream",
     "text": [
      "4\n",
      "4 2 1 "
     ]
    }
   ],
   "source": [
    "a = int(input())\n",
    "i=0\n",
    "li = []\n",
    "li.append(a)\n",
    "while True :\n",
    "    print(a, end=\" \")\n",
    "    if a==1:\n",
    "        break\n",
    "    if a%2==0:\n",
    "        a = li[i]//2\n",
    "    else:\n",
    "        a=li[i]*3+1\n",
    "    li.append(a)\n",
    "    i+=1\n",
    "        "
   ]
  },
  {
   "cell_type": "code",
   "execution_count": 68,
   "id": "2c35f086",
   "metadata": {},
   "outputs": [
    {
     "name": "stdout",
     "output_type": "stream",
     "text": [
      "\n"
     ]
    }
   ],
   "source": [
    "import sys\n",
    "\n",
    "a = sys.stdin.readline()\n",
    "cnt = a.count('3')\n",
    "cnt+=a.count('6')\n",
    "cnt+=a.count('9')\n",
    "if cnt==0:\n",
    "    print(a)\n",
    "else:\n",
    "    print('clap'*cnt)"
   ]
  },
  {
   "cell_type": "code",
   "execution_count": 73,
   "id": "cc9dc03e",
   "metadata": {},
   "outputs": [
    {
     "name": "stdout",
     "output_type": "stream",
     "text": [
      "5\n",
      "25 25 25 25 25\n",
      "0\n"
     ]
    }
   ],
   "source": [
    "a = int(input())\n",
    "b = list(map(int, input().split()))\n",
    "ans = 100\n",
    "for i in b:\n",
    "    ans-=i\n",
    "    if ans==0:\n",
    "        break\n",
    "print(ans)"
   ]
  },
  {
   "cell_type": "code",
   "execution_count": 76,
   "id": "ac37584b",
   "metadata": {},
   "outputs": [
    {
     "name": "stdout",
     "output_type": "stream",
     "text": [
      "18 24\n",
      "15 29\n",
      "NO\n"
     ]
    }
   ],
   "source": [
    "clothes = list(map(int, input().split()))\n",
    "things = list(map(int, input().split()))\n",
    "\n",
    "minu = clothes[1] - things[1]\n",
    "if minu<=0:\n",
    "    if (clothes[0]-things[0])<=0:\n",
    "        print(\"YES\")\n",
    "    else:\n",
    "        print(\"NO\")\n",
    "else:\n",
    "    if (things[0]-clothes[0]-minu) >=0:\n",
    "        print(\"YES\")\n",
    "    else:\n",
    "        print(\"NO\")\n",
    "    "
   ]
  },
  {
   "cell_type": "code",
   "execution_count": 83,
   "id": "ccac47ae",
   "metadata": {},
   "outputs": [
    {
     "name": "stdout",
     "output_type": "stream",
     "text": [
      "4000 6000\n"
     ]
    },
    {
     "data": {
      "text/plain": [
       "5000"
      ]
     },
     "execution_count": 83,
     "metadata": {},
     "output_type": "execute_result"
    }
   ],
   "source": [
    "import numpy as np\n",
    "a = list(map(int, input().split()))\n",
    "print(int(np.mean(a)))"
   ]
  },
  {
   "cell_type": "code",
   "execution_count": 2,
   "id": "e39f9304",
   "metadata": {},
   "outputs": [
    {
     "name": "stdout",
     "output_type": "stream",
     "text": [
      "10.0\n",
      "bottom\n"
     ]
    }
   ],
   "source": [
    "import math\n",
    "a = float(input())\n",
    "if round(a) != a:\n",
    "    print(\"top\")\n",
    "else:\n",
    "    print(\"bottom\")"
   ]
  },
  {
   "cell_type": "code",
   "execution_count": null,
   "id": "56cd96d9",
   "metadata": {},
   "outputs": [],
   "source": [
    "import math\n",
    "a = int(input())\n",
    "if a%2==0:\n",
    "    print(a-1)\n",
    "else:\n",
    "    print(a+1)"
   ]
  },
  {
   "cell_type": "code",
   "execution_count": null,
   "id": "aa90cb6d",
   "metadata": {},
   "outputs": [],
   "source": [
    "T = int(input())\n",
    "for i in range(0, T):\n",
    "    tmp = int(input())\n",
    "    if tmp%2==0:\n",
    "        print('R')\n",
    "    else:\n",
    "        print('L')"
   ]
  },
  {
   "cell_type": "code",
   "execution_count": 9,
   "id": "3f7e7eb7",
   "metadata": {},
   "outputs": [
    {
     "name": "stdout",
     "output_type": "stream",
     "text": [
      "40 58\n",
      "18\n"
     ]
    }
   ],
   "source": [
    "a, b = map(int, input().split())\n",
    "if a>b:\n",
    "    a, b = b, a\n",
    "\n",
    "minValue = abs(a+60-b)\n",
    "if abs(a-b)<minValue:\n",
    "    print(abs(a-b))\n",
    "else:\n",
    "    print(minValue)"
   ]
  },
  {
   "cell_type": "code",
   "execution_count": 12,
   "id": "edfa965c",
   "metadata": {},
   "outputs": [
    {
     "name": "stdout",
     "output_type": "stream",
     "text": [
      "7 10 1\n",
      "YES\n"
     ]
    }
   ],
   "source": [
    "import math\n",
    "a, b, c = map(int, input().split())\n",
    "large = a*a*math.pi\n",
    "small = b*b*math.pi*c\n",
    "if large<=small:\n",
    "    print(\"YES\")\n",
    "else:\n",
    "    print(\"NO\")"
   ]
  },
  {
   "cell_type": "code",
   "execution_count": 14,
   "id": "ac82072e",
   "metadata": {},
   "outputs": [
    {
     "name": "stdout",
     "output_type": "stream",
     "text": [
      "274 11\n",
      "NO\n"
     ]
    }
   ],
   "source": [
    "a, b = map(int, input().split())\n",
    "b = b/a*100\n",
    "if b<=4:\n",
    "    print(\"YES\")\n",
    "else:\n",
    "    print(\"NO\")"
   ]
  },
  {
   "cell_type": "code",
   "execution_count": 18,
   "id": "1c66fade",
   "metadata": {},
   "outputs": [
    {
     "name": "stdout",
     "output_type": "stream",
     "text": [
      "12\n",
      "00012\n"
     ]
    }
   ],
   "source": [
    "a = input()\n",
    "if len(a)<5:\n",
    "    ans = str('0'*(5-len(a))+a)\n",
    "else:\n",
    "    ans=a\n",
    "print(ans)"
   ]
  },
  {
   "cell_type": "code",
   "execution_count": 25,
   "id": "8491f6bf",
   "metadata": {},
   "outputs": [
    {
     "name": "stdout",
     "output_type": "stream",
     "text": [
      "1000.9999s\n",
      "1.0s\n",
      "PYTHON\n"
     ]
    }
   ],
   "source": [
    "j = input()\n",
    "p = input()\n",
    "j = j.strip('s')\n",
    "p = p.strip('s')\n",
    "j=float(j)\n",
    "p=float(p)\n",
    "print(\"JAVA\") if j<=p else print(\"PYTHON\")"
   ]
  },
  {
   "cell_type": "code",
   "execution_count": 37,
   "id": "0fa52b52",
   "metadata": {},
   "outputs": [
    {
     "name": "stdout",
     "output_type": "stream",
     "text": [
      "10\n",
      "14\n"
     ]
    }
   ],
   "source": [
    "K = int(input())\n",
    "\n",
    "while True:\n",
    "    K+=1\n",
    "    if (K/2)%2==1:\n",
    "        break\n",
    "print(K)"
   ]
  },
  {
   "cell_type": "code",
   "execution_count": 45,
   "id": "d47a9a42",
   "metadata": {},
   "outputs": [
    {
     "name": "stdout",
     "output_type": "stream",
     "text": [
      "2\n",
      "98\n"
     ]
    }
   ],
   "source": [
    "n = int(input())\n",
    "print(10**n-2)"
   ]
  },
  {
   "cell_type": "code",
   "execution_count": 53,
   "id": "1c2cb4f7",
   "metadata": {},
   "outputs": [
    {
     "name": "stdout",
     "output_type": "stream",
     "text": [
      "3\n",
      "1 3\n",
      "2 2\n",
      "2 1\n",
      "2 0\n"
     ]
    }
   ],
   "source": [
    "n =int(input())\n",
    "ming=0\n",
    "dong=0\n",
    "for i in range(0, n):\n",
    "    a, b=map(int, input().split())\n",
    "    if a==1:\n",
    "        if b==2:\n",
    "            dong+=1\n",
    "        elif b==3:\n",
    "            ming+=1\n",
    "    elif a==2:\n",
    "        if b==1:\n",
    "            ming+=1\n",
    "        elif b==3:\n",
    "            dong+=1\n",
    "    elif a==3:\n",
    "        if b==1:\n",
    "            dong+=1\n",
    "        elif b==2:\n",
    "            ming+=1\n",
    "\n",
    "print(ming, end=\" \")\n",
    "print(dong)"
   ]
  },
  {
   "cell_type": "code",
   "execution_count": 65,
   "id": "91cdb3a9",
   "metadata": {},
   "outputs": [
    {
     "name": "stdout",
     "output_type": "stream",
     "text": [
      "12\n",
      "12\n"
     ]
    }
   ],
   "source": [
    "n = int(input())\n",
    "tmp = n\n",
    "i=2\n",
    "while True:\n",
    "    if (tmp%n==0) & (tmp%3==0):\n",
    "        break\n",
    "    tmp = n*i\n",
    "    i+=1\n",
    "print(tmp)"
   ]
  },
  {
   "cell_type": "code",
   "execution_count": 67,
   "id": "6339c602",
   "metadata": {},
   "outputs": [
    {
     "name": "stdout",
     "output_type": "stream",
     "text": [
      "27\n",
      "18\n"
     ]
    }
   ],
   "source": [
    "cup = int(input())\n",
    "beer = 1\n",
    "bubble = beer//2\n",
    "while (beer+bubble<cup):\n",
    "    beer+=1\n",
    "    bubble=beer//2\n",
    "print(beer)\n",
    "    "
   ]
  },
  {
   "cell_type": "code",
   "execution_count": 78,
   "id": "714c6a42",
   "metadata": {},
   "outputs": [
    {
     "name": "stdout",
     "output_type": "stream",
     "text": [
      "3 3\n",
      "R R R\n",
      "G G G\n",
      "B B B\n",
      "R R R\n",
      "R R R\n",
      "R R R\n",
      "R R R \n",
      "Y Y Y \n",
      "M M M \n"
     ]
    }
   ],
   "source": [
    "n, m = map(int, input().split())\n",
    "a=[]\n",
    "b=[]\n",
    "for i in range(0, n):\n",
    "    tmp = list(input().split())\n",
    "    a.append(tmp)\n",
    "    \n",
    "for i in range(0, n):\n",
    "    tmp=list(input().split())\n",
    "    b.append(tmp)\n",
    "\n",
    "\n",
    "ans=[]\n",
    "for i in range(0, n):\n",
    "    tmp=[]\n",
    "    for j in range(0, m):\n",
    "        if a[i][j]=='R':\n",
    "            if b[i][j]=='R':\n",
    "                tmp.append('R')\n",
    "            elif b[i][j] =='G':\n",
    "                tmp.append('Y')\n",
    "            elif b[i][j] == 'B':\n",
    "                tmp.append('M')\n",
    "        if a[i][j]=='G':\n",
    "            if b[i][j]=='G':\n",
    "                tmp.append('G')\n",
    "            elif b[i][j] =='R':\n",
    "                tmp.append('Y')\n",
    "            elif b[i][j] == 'B':\n",
    "                tmp.append('C')\n",
    "        if a[i][j]=='B':\n",
    "            if b[i][j]=='B':\n",
    "                tmp.append('B')\n",
    "            elif b[i][j] =='G':\n",
    "                tmp.append('C')\n",
    "            elif b[i][j] == 'R':\n",
    "                tmp.append('M')\n",
    "    ans.append(tmp)\n",
    "\n",
    "for i in range(0, n):\n",
    "    for j in range(0, m):\n",
    "        print(ans[i][j], end=\" \")\n",
    "    print()\n",
    "        "
   ]
  },
  {
   "cell_type": "code",
   "execution_count": 79,
   "id": "82a92058",
   "metadata": {},
   "outputs": [
    {
     "name": "stdout",
     "output_type": "stream",
     "text": [
      "3\n",
      "YES\n"
     ]
    }
   ],
   "source": [
    "n = int(input())\n",
    "print(\"YES\") if n%3==0 else print(\"NO\")"
   ]
  },
  {
   "cell_type": "code",
   "execution_count": 81,
   "id": "e0f0c276",
   "metadata": {},
   "outputs": [
    {
     "name": "stdout",
     "output_type": "stream",
     "text": [
      "13 12 5\n",
      "30\n"
     ]
    }
   ],
   "source": [
    "a = list(map(int, input().split()))\n",
    "a.sort()\n",
    "print((a[0]*a[1])//2)"
   ]
  },
  {
   "cell_type": "code",
   "execution_count": 82,
   "id": "5d4ce3fb",
   "metadata": {
    "scrolled": true
   },
   "outputs": [
    {
     "name": "stdout",
     "output_type": "stream",
     "text": [
      "100\n",
      "42095\n"
     ]
    }
   ],
   "source": [
    "n=int(input())\n",
    "print(42195-n)"
   ]
  },
  {
   "cell_type": "code",
   "execution_count": 94,
   "id": "b064d5f1",
   "metadata": {
    "scrolled": true
   },
   "outputs": [
    {
     "name": "stdout",
     "output_type": "stream",
     "text": [
      "50 40 80 90 100\n",
      "P\n"
     ]
    }
   ],
   "source": [
    "a = list(map(int, input().split()))\n",
    "a.sort()\n",
    "flag=True\n",
    "av = sum(a)//len(a)\n",
    "for i in a:\n",
    "    if i<40:\n",
    "        print(\"F\")\n",
    "        flag=False\n",
    "        break\n",
    "          \n",
    "if flag & (av<60):\n",
    "    print(\"F\")\n",
    "elif flag & (av>=60):\n",
    "    print(\"P\")\n",
    "    "
   ]
  },
  {
   "cell_type": "code",
   "execution_count": 96,
   "id": "634f53bb",
   "metadata": {},
   "outputs": [
    {
     "name": "stdout",
     "output_type": "stream",
     "text": [
      "3\n",
      "MON\n",
      "THU\n"
     ]
    }
   ],
   "source": [
    "week = ['MON', 'TUE', 'WED', 'THU', 'FRI', 'SAT', 'SUN']\n",
    "n=int(input())\n",
    "today=input()\n",
    "todayIdx = week.index(today)\n",
    "print(week[(todayIdx+n)%7])"
   ]
  },
  {
   "cell_type": "code",
   "execution_count": 54,
   "id": "a1a45c3e",
   "metadata": {},
   "outputs": [
    {
     "name": "stdout",
     "output_type": "stream",
     "text": [
      "1 10\n",
      "100\n",
      "0.1000000000000000000000000000000000000000000000000000000000000000000000000000000000000000000000000000"
     ]
    }
   ],
   "source": [
    "# -*- coding: utf-8 -*-\n",
    "import sys\n",
    "import numpy as np\n",
    "from decimal import *\n",
    "\n",
    "p, q =map(int, input().split())\n",
    "n=int(input())\n",
    "getcontext().prec = n\n",
    "print((Decimal(p)/Decimal(q)), end=\"\")\n",
    "if len(str(Decimal(p)/Decimal(q))) - 2 <n:\n",
    "    print('0'*(n-len(str(Decimal(p)/Decimal(q)))+2), end=\"\")"
   ]
  },
  {
   "cell_type": "code",
   "execution_count": 2,
   "id": "deebf601",
   "metadata": {},
   "outputs": [
    {
     "name": "stdout",
     "output_type": "stream",
     "text": [
      "13 7\n",
      "NO\n"
     ]
    }
   ],
   "source": [
    "def divider(a):\n",
    "    ret=0\n",
    "    for i in range(1, a):\n",
    "        if a%i==0:\n",
    "            ret+=i\n",
    "    return ret\n",
    "a, b = map(int, input().split())\n",
    "divider_a = divider(a)\n",
    "divider_b = divider(b)\n",
    "if (a==divider_b) & (b==divider_a) :\n",
    "    print(\"YES\")\n",
    "else:\n",
    "    print(\"NO\")\n"
   ]
  },
  {
   "cell_type": "code",
   "execution_count": 57,
   "id": "bb39ae43",
   "metadata": {
    "scrolled": true
   },
   "outputs": [
    {
     "name": "stdout",
     "output_type": "stream",
     "text": [
      "4\n",
      "1 0 1 0\n",
      "0 2 0 2\n",
      "2 0 0 0\n",
      "2 1 2 2\n",
      "[[1 0 1 0]\n",
      " [0 0 0 0]\n",
      " [0 0 0 0]\n",
      " [2 1 2 0]]\n",
      "2\n"
     ]
    }
   ],
   "source": [
    "import numpy as np\n",
    "N = int(input())\n",
    "field = []\n",
    "\n",
    "def calc(x):\n",
    "    global N\n",
    "    global field\n",
    "    flag=True\n",
    "    for i in field[x]:\n",
    "        if i==1:\n",
    "            flag=False\n",
    "            break\n",
    "    if flag :\n",
    "        field[x] = [0*N]\n",
    "    return\n",
    "\n",
    "def calc2(y) :\n",
    "    global N\n",
    "    global field\n",
    "    flag=True\n",
    "    for i in field[0:N, y]:\n",
    "        if i==1:\n",
    "            flag=False\n",
    "            break\n",
    "    if flag :\n",
    "        field[0:N, y] = 0\n",
    "    return\n",
    "\n",
    "for i in range(0, N):\n",
    "    tmp = list(map(int, input().split()))\n",
    "    field.append(tmp)\n",
    "field = np.array(field)\n",
    "\n",
    "# 0은 빈 땅, 1은 작물만 있는 땅, 2는 잡초만 있는 땅\n",
    "for i in range(0, N) :\n",
    "    calc(i)\n",
    "for i in range(0, N):\n",
    "    calc2(i)\n",
    "ans = 0\n",
    "for i in range(0, N):\n",
    "    for j in range(0, N):\n",
    "        if field[i][j]==2:\n",
    "            ans+=1\n",
    "    \n",
    "print(ans)"
   ]
  },
  {
   "cell_type": "code",
   "execution_count": 15,
   "id": "4d59a190",
   "metadata": {},
   "outputs": [
    {
     "name": "stdout",
     "output_type": "stream",
     "text": [
      "2\n",
      "15 30\n",
      "3 18\n",
      "15 30\n",
      "3 18\n"
     ]
    }
   ],
   "source": [
    "import numpy as np\n",
    "N = int(input())\n",
    "li = []\n",
    "for i in range(0, N):\n",
    "    tmp = list(map(int, input().split()))\n",
    "    li.append(tmp)\n",
    "li = np.array(li)\n",
    "mini, maxi = li[0]\n",
    "print(mini, maxi)\n",
    "for i in range(1, N):\n",
    "    if li[i, 0]>=mini & li[i, 0]<=maxi:\n",
    "        mini = li[i, 0]\n",
    "    if li[i, 1]>=mini & li[i, 1]<=maxi:\n",
    "        maxi = li[i, 1]\n",
    "\n",
    "print(mini, maxi)"
   ]
  }
 ],
 "metadata": {
  "kernelspec": {
   "display_name": "Python 3",
   "language": "python",
   "name": "python3"
  },
  "language_info": {
   "codemirror_mode": {
    "name": "ipython",
    "version": 3
   },
   "file_extension": ".py",
   "mimetype": "text/x-python",
   "name": "python",
   "nbconvert_exporter": "python",
   "pygments_lexer": "ipython3",
   "version": "3.8.8"
  }
 },
 "nbformat": 4,
 "nbformat_minor": 5
}
